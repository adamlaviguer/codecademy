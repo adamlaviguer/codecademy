{
 "cells": [
  {
   "cell_type": "markdown",
   "metadata": {},
   "source": [
    "# U.S. Medical Insurance Costs"
   ]
  },
  {
   "cell_type": "markdown",
   "metadata": {},
   "source": [
    "## Project Goals\n",
    "1. Demonstrate knowledge of Python fundamentals\n",
    "2. Exercise analytical thought process\n",
    "3. Demonstrate project management methods and documentation"
   ]
  },
  {
   "cell_type": "markdown",
   "metadata": {},
   "source": [
    "## Project Data\n",
    "### Restraints\n",
    "The data source `insurance.csv` contains a total of 1338 records, spanning persons ages 18 through 64 who have 0 to 5 children."
   ]
  },
  {
   "cell_type": "code",
   "execution_count": 3,
   "metadata": {},
   "outputs": [
    {
     "name": "stdout",
     "output_type": "stream",
     "text": [
      "Total Records: 1338\n",
      "Max Age: 64\n",
      "Min Age: 18\n",
      "Max Children: 5\n",
      "Min Children: 0\n"
     ]
    }
   ],
   "source": [
    "import csv\n",
    "with open(\"insurance.csv\") as data_file:\n",
    "    data_dict = csv.DictReader(data_file)\n",
    "    data_list = list(data_dict)\n",
    "\n",
    "num_records = len(data_list)\n",
    "print(\"Total Records: {}\".format(num_records))\n",
    "\n",
    "min_age, max_age, min_children, max_children = 0, 0, 0, 0\n",
    "for record in data_list:\n",
    "    current_age = int(record[\"age\"])\n",
    "    if min_age == 0:\n",
    "        min_age = current_age\n",
    "    elif current_age < min_age:\n",
    "        min_age = current_age\n",
    "    if max_age == 0:\n",
    "        max_age = current_age\n",
    "    elif current_age > max_age:\n",
    "        max_age = current_age\n",
    "\n",
    "    current_children = int(record[\"children\"])\n",
    "    if min_children == 0:\n",
    "        min_children = current_children\n",
    "    elif current_children < min_children:\n",
    "        min_children = current_children\n",
    "    if max_children == 0:\n",
    "        max_children = current_children\n",
    "    elif current_children > max_children:\n",
    "        max_children = current_children\n",
    "print(\"Max Age: {}\".format(max_age))\n",
    "print(\"Min Age: {}\".format(min_age))\n",
    "print(\"Max Children: {}\".format(max_children))\n",
    "print(\"Min Children: {}\".format(min_children))"
   ]
  },
  {
   "cell_type": "markdown",
   "metadata": {},
   "source": [
    "### Analysis Objectives\n",
    "##### 1. Define demographics"
   ]
  },
  {
   "cell_type": "code",
   "execution_count": 4,
   "metadata": {},
   "outputs": [
    {
     "name": "stdout",
     "output_type": "stream",
     "text": [
      "Total combinations: 128\n",
      "Sample entry: {'Age': '18-21', 'Sex': 'male', 'Children': 'yes', 'Smoker': 'yes', 'Region': 'southeast'}\n"
     ]
    }
   ],
   "source": [
    "from itertools import product\n",
    "\n",
    "# Define the lists\n",
    "ages = ['18-21', '22-35', '36-50', '51-64']\n",
    "sex = ['male', 'female']\n",
    "children = ['yes', 'no']\n",
    "smoker = ['yes', 'no']\n",
    "region = ['southeast', 'southwest', 'northeast', 'northwest']\n",
    "\n",
    "# Create all possible combinations\n",
    "combinations = list(product(ages, sex, children, smoker, region))\n",
    "\n",
    "# Define the column names\n",
    "columns = ['Age', 'Sex', 'Children', 'Smoker', 'Region']\n",
    "\n",
    "# Create the dictionary with unique integer IDs\n",
    "data_dict = {i: dict(zip(columns, combo)) for i, combo in enumerate(combinations, start=1)}\n",
    "\n",
    "# Optional: print a sample\n",
    "print(f\"Total combinations: {len(data_dict)}\")\n",
    "print(\"Sample entry:\", data_dict[1])"
   ]
  },
  {
   "cell_type": "markdown",
   "metadata": {},
   "source": [
    "##### 2. Comparative Analysis\n",
    "**Do smokers have higher medical charges than non-smokers?**\n",
    "\n",
    "**How do charges differe between males and females?**\n",
    "\n",
    "**Is there a difference between average charges between regions?**\n",
    "\n",
    "\n",
    "##### 3. Correlation Analysis\n",
    "**Does age correlate with medical charges?**\n",
    "\n",
    "**How does the number of children affect medical charges?**\n",
    "\n",
    "**Is there a relationship between smoking status and BMI?**\n"
   ]
  }
 ],
 "metadata": {
  "kernelspec": {
   "display_name": "Python 3 (ipykernel)",
   "language": "python",
   "name": "python3"
  },
  "language_info": {
   "codemirror_mode": {
    "name": "ipython",
    "version": 3
   },
   "file_extension": ".py",
   "mimetype": "text/x-python",
   "name": "python",
   "nbconvert_exporter": "python",
   "pygments_lexer": "ipython3",
   "version": "3.13.5"
  }
 },
 "nbformat": 4,
 "nbformat_minor": 4
}
