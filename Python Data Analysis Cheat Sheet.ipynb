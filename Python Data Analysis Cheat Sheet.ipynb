{
 "cells": [
  {
   "cell_type": "markdown",
   "id": "40a633f7",
   "metadata": {},
   "source": [
    "# Python Data Analysis Cheat Sheet"
   ]
  },
  {
   "cell_type": "markdown",
   "id": "1aca3ecf",
   "metadata": {},
   "source": [
    "## Common Libraries to Import"
   ]
  },
  {
   "cell_type": "markdown",
   "id": "98aed245",
   "metadata": {},
   "source": [
    "```py\n",
    "# Core Libraries\n",
    "import numpy as np\n",
    "import pandas as pd\n",
    "\n",
    "# Visualization\n",
    "import matplotlib.pyplot as plt\n",
    "import seaborn as sns\n",
    "\n",
    "# Statistical Analysis\n",
    "from scipy import stats\n",
    "from scipy.stats import iqr, ttest_ind, pearsonr\n",
    "\n",
    "# Machine Learning & Modeling\n",
    "from sklearn.model_selection import train_test_split\n",
    "from sklearn.linear_model import LinearRegression\n",
    "from sklearn.metrics import mean_squared_error, accuracy_score\n",
    "\n",
    "# Data Preprocessing\n",
    "from sklearn.preprocessing import StandardScaler, LabelEncoder\n",
    "```"
   ]
  },
  {
   "cell_type": "markdown",
   "id": "0d613fcf",
   "metadata": {},
   "source": [
    "## Data Exploration"
   ]
  },
  {
   "cell_type": "markdown",
   "id": "e848b2e6",
   "metadata": {},
   "source": [
    "```py\n",
    "df.head()            # First 5 rows\n",
    "df.info()            # Data types & non-null counts\n",
    "df.describe()        # Summary statistics\n",
    "df.columns           # Column names\n",
    "df.shape             # Rows and columns\n",
    "df.isnull().sum()    # Missing values\n",
    "```"
   ]
  },
  {
   "cell_type": "markdown",
   "id": "1f873358",
   "metadata": {},
   "source": [
    "## Data Cleaning"
   ]
  },
  {
   "cell_type": "markdown",
   "id": "0b8da156",
   "metadata": {},
   "source": [
    "```py\n",
    "df.dropna()                         # Drop missing values\n",
    "df.fillna(value)                    # Fill missing values\n",
    "df.duplicated().sum()               # Count duplicates\n",
    "df.drop_duplicates(inplace=True)    # Remove duplicates\n",
    "\n",
    "```"
   ]
  },
  {
   "cell_type": "markdown",
   "id": "7094c91b",
   "metadata": {},
   "source": [
    "## Visualization"
   ]
  },
  {
   "cell_type": "markdown",
   "id": "489d986f",
   "metadata": {},
   "source": [
    "```py\n",
    "sns.histplot(df['column'])              # Histogram\n",
    "sns.boxplot(x='column', data=df)        # Boxplot\n",
    "sns.scatterplot(x='x', y='y', data=df)  # Scatter plot\n",
    "sns.heatmap(df.corr(), annot=True)      # Correlation heatmap\n",
    "\n",
    "```"
   ]
  },
  {
   "cell_type": "markdown",
   "id": "00877364",
   "metadata": {},
   "source": [
    "## Statistical Analysis"
   ]
  },
  {
   "cell_type": "markdown",
   "id": "e17bd01a",
   "metadata": {},
   "source": [
    "```py\n",
    "iqr(df['column'])                   # Interquartile range\n",
    "stats.ttest_ind(a, b)               # T-test\n",
    "stats.pearsonr(x, y)                # Pearson correlation\n",
    "\n",
    "```"
   ]
  },
  {
   "cell_type": "markdown",
   "id": "8989d9dd",
   "metadata": {},
   "source": [
    "## Machine Learning Basics"
   ]
  },
  {
   "cell_type": "markdown",
   "id": "46586de3",
   "metadata": {},
   "source": [
    "```py\n",
    "X = df.drop('target', axis=1)\n",
    "y = df['target']\n",
    "\n",
    "X_train, X_test, y_train, y_test = train_test_split(X, y, test_size=0.2)\n",
    "\n",
    "model = LinearRegression()\n",
    "model.fit(X_train, y_train)\n",
    "predictions = model.predict(X_test)\n",
    "```"
   ]
  },
  {
   "cell_type": "markdown",
   "id": "a52c79a2",
   "metadata": {},
   "source": [
    "## Preprocessing"
   ]
  },
  {
   "cell_type": "markdown",
   "id": "37b8912f",
   "metadata": {},
   "source": [
    "```py\n",
    "scaler = StandardScaler()\n",
    "X_scaled = scaler.fit_transform(X)\n",
    "\n",
    "encoder = LabelEncoder()\n",
    "df['encoded'] = encoder.fit_transform(df['categorical_column'])\n",
    "```"
   ]
  }
 ],
 "metadata": {
  "kernelspec": {
   "display_name": "Python 3 (ipykernel)",
   "language": "python",
   "name": "python3"
  },
  "language_info": {
   "codemirror_mode": {
    "name": "ipython",
    "version": 3
   },
   "file_extension": ".py",
   "mimetype": "text/x-python",
   "name": "python",
   "nbconvert_exporter": "python",
   "pygments_lexer": "ipython3",
   "version": "3.13.5"
  }
 },
 "nbformat": 4,
 "nbformat_minor": 5
}
