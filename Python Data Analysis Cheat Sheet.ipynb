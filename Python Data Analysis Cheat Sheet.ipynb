{
 "cells": [
  {
   "cell_type": "markdown",
   "id": "40a633f7",
   "metadata": {},
   "source": [
    "# Python Data Analysis Cheat Sheet"
   ]
  },
  {
   "cell_type": "markdown",
   "id": "1aca3ecf",
   "metadata": {},
   "source": [
    "## Common Libraries to Import"
   ]
  },
  {
   "cell_type": "markdown",
   "id": "98aed245",
   "metadata": {},
   "source": [
    "```py\n",
    "# Core Libraries\n",
    "import numpy as np\n",
    "import pandas as pd\n",
    "\n",
    "# Visualization\n",
    "import matplotlib.pyplot as plt\n",
    "import seaborn as sns\n",
    "import plotly.express as px\n",
    "\n",
    "# Statistical Analysis\n",
    "from scipy import stats\n",
    "from scipy.stats import iqr, ttest_ind, pearsonr, trim_mean, chi2_contingency\n",
    "\n",
    "# Machine Learning & Modeling\n",
    "from sklearn.model_selection import train_test_split\n",
    "from sklearn.linear_model import LinearRegression\n",
    "from sklearn.metrics import mean_squared_error, accuracy_score\n",
    "\n",
    "# Data Preprocessing\n",
    "from sklearn.preprocessing import StandardScaler, LabelEncoder\n",
    "```"
   ]
  },
  {
   "cell_type": "markdown",
   "id": "0d613fcf",
   "metadata": {},
   "source": [
    "## Data Exploration"
   ]
  },
  {
   "cell_type": "markdown",
   "id": "e848b2e6",
   "metadata": {},
   "source": [
    "```py\n",
    "df.head()               # First 5 rows\n",
    "df.info()               # Data types & non-null counts\n",
    "df.describe()           # Summary statistics\n",
    "df.columns              # Column names\n",
    "df.shape                # Rows and columns\n",
    "df.isnull().sum()       # Missing values\n",
    "df.column.value_counts()       # List the unique values in a column and the count of each value\n",
    "df.column.value_counts(normalize=True)  # List the unqiue values in a column and the proportion of each value\n",
    "pd.crosstab(df.column1, df.column2)     # Crosstab function from pandas to create a contingency table\n",
    "crosstab_object / len(df)               # Converting the crosstab object to proportional values\n",
    "crosstab_prop_object.sum(axis = 0)      # Get marginal proportion of the Y axis\n",
    "crosstab_prop_object.sum(axis = 1)      # Get marginal proprotion of the X axis\n",
    "```"
   ]
  },
  {
   "cell_type": "markdown",
   "id": "1f873358",
   "metadata": {},
   "source": [
    "## Data Cleaning"
   ]
  },
  {
   "cell_type": "markdown",
   "id": "0b8da156",
   "metadata": {},
   "source": [
    "```py\n",
    "df.dropna()                         # Drop missing values\n",
    "df.fillna(value)                    # Fill missing values\n",
    "df.duplicated().sum()               # Count duplicates\n",
    "df.drop_duplicates(inplace=True)    # Remove duplicates\n",
    "\n",
    "```"
   ]
  },
  {
   "cell_type": "markdown",
   "id": "7094c91b",
   "metadata": {},
   "source": [
    "## Visualization"
   ]
  },
  {
   "cell_type": "markdown",
   "id": "489d986f",
   "metadata": {},
   "source": [
    "```py\n",
    "sns.histplot(x = 'column', data = df)                   # Histogram\n",
    "                                                        # Overlapping Histograms\n",
    "plt.hist(df, color = 'blue', label = 'category1', density = True, alpha = 0.5)\n",
    "plt.hist(df, color = 'red', label = 'category2', density = True, alpha = 0.5)\n",
    "plt.legend()\n",
    "\n",
    "sns.boxplot(x='column', data=df)                        # Single Boxplot\n",
    "sns.boxplot(x = 'category', y = 'values', data = df)    # Side by Side Boxplots\n",
    "sns.scatterplot(x='x', y='y', data=df)                  # Scatter plot\n",
    "sns.heatmap(df.corr(), annot=True)                      # Correlation heatmap\n",
    "sns.countplot(x = 'column', data = df)                  # Bar chart\n",
    "df.column.value_counts().plot.pie()                     # Pie chart\n",
    "```"
   ]
  },
  {
   "cell_type": "markdown",
   "id": "00877364",
   "metadata": {},
   "source": [
    "## Statistical Analysis"
   ]
  },
  {
   "cell_type": "markdown",
   "id": "e17bd01a",
   "metadata": {},
   "source": [
    "```py\n",
    "df.column.mean()                    # Mean\n",
    "df.column.median()                  # Median\n",
    "df.column.mode()                    # Mode\n",
    "trim_mean(df.column, proportiontocut=0.1)   # Trimmed mean\n",
    "df.column.max() - df.column.min()   # Range\n",
    "iqr(df['column'])                   # Interquartile range\n",
    "df.column.var()                     # Variance\n",
    "df.column.std()                     # Standard Deviation\n",
    "df.column.mad()                     # Mean Absolute Deviation\n",
    "np.cov(df.column1, df.column2)      # Covariance\n",
    "var, p = pearsonr(df.column1, df.column2)   # Pearson correlation\n",
    "chi2, pval, dof, expected = chi2_contingency(contingency_table)     # The Chi-Square Statistic\n",
    "chi2 = chi2_contingency(contingency_table)[0]\n",
    "pval = chi2_contingency(contingency_table)[1]\n",
    "dof = chi2_contingency(contingency_table)[2]\n",
    "expected = chi2_contingency(contingency_table)[3]\n",
    "\n",
    "random = np.random.choice(a, size = size, replace = True/False)     # Numpy function to generate a random value\n",
    "\n",
    "stats.binom.pmf(x, n, p)            # Calculate the PMF of the binomial distribution of any value | x = the value of interest | n = the num of trials | p = the probability of success\n",
    "stats.binom.cdf(x, n, p)            # Calculate the CDF of the binomial distribution of any value | x = the value of interest (probability of this value or less) | n = the sample size | p = the probability of success\n",
    "stats.norm.cdf(x, loc, scale)       # Calculate the CDF of the normal distribution | x = the value of interest | loc = the mean of the probability distribution | scale = the standard deviation of the probably distribution\n",
    "stats.poisson.pmf(p, lambda)        # Calculate the PMF of the Poisson distribution | p = the probability of observing the expected value | lambda = the expected value\n",
    "stats.poisson.cdf(p, lambda)        # Calculate the CDF of the Poisson distribution | p = the probability of observing the expected value | lambda = the expected value\n",
    "stats.poisson.rvs(lambda, size = num_values)    # Generate random variants from the Poisson distribution\n",
    "np.var(distribution)                            # Calculate the variance of a sample using numpy\n",
    "min(distribution)\n",
    "max(distribution)\n",
    "```"
   ]
  },
  {
   "cell_type": "markdown",
   "id": "8989d9dd",
   "metadata": {},
   "source": [
    "## Machine Learning Basics"
   ]
  },
  {
   "cell_type": "markdown",
   "id": "46586de3",
   "metadata": {},
   "source": [
    "```py\n",
    "X = df.drop('target', axis=1)\n",
    "y = df['target']\n",
    "\n",
    "X_train, X_test, y_train, y_test = train_test_split(X, y, test_size=0.2)\n",
    "\n",
    "model = LinearRegression()\n",
    "model.fit(X_train, y_train)\n",
    "predictions = model.predict(X_test)\n",
    "```"
   ]
  },
  {
   "cell_type": "markdown",
   "id": "a52c79a2",
   "metadata": {},
   "source": [
    "## Preprocessing"
   ]
  },
  {
   "cell_type": "markdown",
   "id": "37b8912f",
   "metadata": {},
   "source": [
    "```py\n",
    "scaler = StandardScaler()\n",
    "X_scaled = scaler.fit_transform(X)\n",
    "\n",
    "encoder = LabelEncoder()\n",
    "df['encoded'] = encoder.fit_transform(df['categorical_column'])\n",
    "```"
   ]
  }
 ],
 "metadata": {
  "kernelspec": {
   "display_name": "Python 3 (ipykernel)",
   "language": "python",
   "name": "python3"
  }
 },
 "nbformat": 4,
 "nbformat_minor": 5
}
