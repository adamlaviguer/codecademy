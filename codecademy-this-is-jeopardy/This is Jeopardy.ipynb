{
 "cells": [
  {
   "cell_type": "markdown",
   "metadata": {},
   "source": [
    "# This is Jeopardy!"
   ]
  },
  {
   "cell_type": "markdown",
   "metadata": {},
   "source": [
    "#### Overview"
   ]
  },
  {
   "cell_type": "markdown",
   "metadata": {},
   "source": [
    "This project is slightly different than others you have encountered thus far. Instead of a step-by-step tutorial, this project contains a series of open-ended requirements which describe the project you'll be building. There are many possible ways to correctly fulfill all of these requirements, and you should expect to use the internet, Codecademy, and/or other resources when you encounter a problem that you cannot easily solve."
   ]
  },
  {
   "cell_type": "markdown",
   "metadata": {},
   "source": [
    "#### Project Goals"
   ]
  },
  {
   "cell_type": "markdown",
   "metadata": {},
   "source": [
    "You will work to write several functions that investigate a dataset of _Jeopardy!_ questions and answers. Filter the dataset for topics that you're interested in, compute the average difficulty of those questions, and train to become the next Jeopardy champion!"
   ]
  },
  {
   "cell_type": "markdown",
   "metadata": {},
   "source": [
    "## Prerequisites"
   ]
  },
  {
   "cell_type": "markdown",
   "metadata": {},
   "source": [
    "In order to complete this project, you should have completed the Pandas lessons in the <a href=\"https://www.codecademy.com/learn/paths/analyze-data-with-python\">Analyze Data with Python Skill Path</a>. You can also find those lessons in the <a href=\"https://www.codecademy.com/learn/data-processing-pandas\">Data Analysis with Pandas course</a> or the <a href=\"https://www.codecademy.com/learn/paths/data-science/\">Data Scientist Career Path</a>.\n",
    "\n",
    "Finally, the <a href=\"https://www.codecademy.com/learn/practical-data-cleaning\">Practical Data Cleaning</a> course may also be helpful."
   ]
  },
  {
   "cell_type": "markdown",
   "metadata": {},
   "source": [
    "## Project Requirements"
   ]
  },
  {
   "cell_type": "markdown",
   "metadata": {},
   "source": [
    "1. We've provided a csv file containing data about the game show _Jeopardy!_ in a file named `jeopardy.csv`. Load the data into a DataFrame and investigate its contents. Try to print out specific columns.\n",
    "\n",
    "   Note that in order to make this project as \"real-world\" as possible, we haven't modified the data at all - we're giving it to you exactly how we found it. As a result, this data isn't as \"clean\" as the datasets you normally find on Codecademy. More specifically, there's something odd about the column names. After you figure out the problem with the column names, you may want to rename them to make your life easier for the rest of the project.\n",
    "   \n",
    "   In order to display the full contents of a column, we've added this line of code for you:\n",
    "   \n",
    "   ```py\n",
    "   pd.set_option('display.max_colwidth', None)\n",
    "   ```"
   ]
  },
  {
   "cell_type": "code",
   "execution_count": 1,
   "metadata": {},
   "outputs": [
    {
     "name": "stdout",
     "output_type": "stream",
     "text": [
      "   show_num        date      round                         category value  \\\n",
      "0      4680  2004-12-31  Jeopardy!                          HISTORY  $200   \n",
      "1      4680  2004-12-31  Jeopardy!  ESPN's TOP 10 ALL-TIME ATHLETES  $200   \n",
      "2      4680  2004-12-31  Jeopardy!      EVERYBODY TALKS ABOUT IT...  $200   \n",
      "3      4680  2004-12-31  Jeopardy!                 THE COMPANY LINE  $200   \n",
      "4      4680  2004-12-31  Jeopardy!              EPITAPHS & TRIBUTES  $200   \n",
      "\n",
      "                                                                                                      question  \\\n",
      "0             For the last 8 years of his life, Galileo was under house arrest for espousing this man's theory   \n",
      "1  No. 2: 1912 Olympian; football star at Carlisle Indian School; 6 MLB seasons with the Reds, Giants & Braves   \n",
      "2                     The city of Yuma in this state has a record average of 4,055 hours of sunshine each year   \n",
      "3                         In 1963, live on \"The Art Linkletter Show\", this company served its billionth burger   \n",
      "4     Signer of the Dec. of Indep., framer of the Constitution of Mass., second President of the United States   \n",
      "\n",
      "       answer  \n",
      "0  Copernicus  \n",
      "1  Jim Thorpe  \n",
      "2     Arizona  \n",
      "3  McDonald's  \n",
      "4  John Adams  \n"
     ]
    }
   ],
   "source": [
    "import pandas as pd\n",
    "import re\n",
    "pd.set_option('display.max_colwidth', None)\n",
    "\n",
    "jeopardy_df = pd.read_csv('jeopardy.csv')\n",
    "jeopardy_df.rename(columns={'Show Number': 'show_num', 'Air Date': 'date', 'Round': 'round', 'Category': 'category', 'Value': 'value', 'Question': 'question', 'Answer': 'answer'}, inplace=True)\n",
    "# The original CSV file had spaces at the start of each column name. After removing the leading spaces, however, the column headers could be renamed.\n",
    "print(jeopardy_df.head())"
   ]
  },
  {
   "cell_type": "markdown",
   "metadata": {},
   "source": [
    "2. Write a function that filters the dataset for questions that contains all of the words in a list of words. For example, when the list `[\"King\", \"England\"]` was passed to our function, the function returned a DataFrame of 49 rows. Every row had the strings `\"King\"` and `\"England\"` somewhere in its `\" Question\"`.\n",
    "\n",
    "   Test your function by printing out the column containing the question of each row of the dataset."
   ]
  },
  {
   "cell_type": "code",
   "execution_count": 2,
   "metadata": {},
   "outputs": [
    {
     "name": "stdout",
     "output_type": "stream",
     "text": [
      "85\n",
      "       show_num        date      round                    category value  \\\n",
      "56         5957  2010-07-06  Jeopardy!               GEOGRAPHY \"E\"  $200   \n",
      "1491       5392  2008-02-05  Jeopardy!  ENGLAND, SCOTLAND OR WALES  $200   \n",
      "6768       4306  2003-04-28  Jeopardy!                         EDS  $800   \n",
      "8024       4227  2003-01-07  Jeopardy!            HAT'S ALL, FOLKS  $800   \n",
      "18500      3734  2000-11-23  Jeopardy!                 CATHOLICISM  $100   \n",
      "\n",
      "                                                                                                               question  \\\n",
      "56                                                                       It's the largest kingdom in the United Kingdom   \n",
      "1491                                                                                       The largest in area of the 3   \n",
      "6768   In order to marry a twice-divorced American woman, King Edward VIII of this country abdicated the throne in 1936   \n",
      "8024            The ever-popular Bowler hat is named for William Bowler, the man who created it in 1850 in this country   \n",
      "18500                               This country's 1689 Bill of Rights stated that no Roman Catholic would ever rule it   \n",
      "\n",
      "        answer  \n",
      "56     England  \n",
      "1491   England  \n",
      "6768   England  \n",
      "8024   England  \n",
      "18500  England  \n"
     ]
    }
   ],
   "source": [
    "def create_filtered_df1(jeopardy_df, input_list):\n",
    "    filtered_df = jeopardy_df[jeopardy_df.apply(lambda row: any(word in row.values for word in input_list), axis=1)]\n",
    "    return filtered_df\n",
    "\n",
    "filtered_df1 = create_filtered_df1(jeopardy_df, ['King', 'England'])\n",
    "print(len(filtered_df1))\n",
    "print(filtered_df1.head())"
   ]
  },
  {
   "cell_type": "markdown",
   "metadata": {},
   "source": [
    "3. Test your original function with a few different sets of words to try to find some ways your function breaks. Edit your function so it is more robust.\n",
    "\n",
    "   For example, think about capitalization. We probably want to find questions that contain the word `\"King\"` or `\"king\"`.\n",
    "   \n",
    "   You may also want to check to make sure you don't find rows that contain substrings of your given words. For example, our function found a question that didn't contain the word `\"king\"`, however it did contain the word `\"viking\"` &mdash; it found the `\"king\"` inside `\"viking\"`. Note that this also comes with some drawbacks &mdash; you would no longer find questions that contained words like `\"England's\"`."
   ]
  },
  {
   "cell_type": "code",
   "execution_count": 3,
   "metadata": {},
   "outputs": [
    {
     "name": "stdout",
     "output_type": "stream",
     "text": [
      "3314\n",
      "     show_num        date             round                     category  \\\n",
      "20       4680  2004-12-31         Jeopardy!  EVERYBODY TALKS ABOUT IT...   \n",
      "310      5690  2009-05-08         Jeopardy!                  MOVIES & TV   \n",
      "349      5690  2009-05-08  Double Jeopardy!              NAME THE DECADE   \n",
      "456      6037  2010-12-07  Double Jeopardy!                  TAINTED GOV   \n",
      "496      5243  2007-05-30         Jeopardy!             3 LITTLE LETTERS   \n",
      "\n",
      "      value  \\\n",
      "20     $800   \n",
      "310    $600   \n",
      "349  $1,800   \n",
      "456    $800   \n",
      "496    $800   \n",
      "\n",
      "                                                                                                       question  \\\n",
      "20   Africa's lowest temperature was 11 degrees below zero in 1935 at Ifrane, just south of Fez in this country   \n",
      "310   Of his dialogue, this Han Solo actor said, \"You can type this (stuff), George, but you sure can't say it\"   \n",
      "349                                                      George Orwell, 34 years dead, hits the bestseller list   \n",
      "456                      In 2006 this Illinois governor was busted for racketeering; what's in the water there?   \n",
      "496                    Its headquarters compound in Langley, Virginia is named for Former President George Bush   \n",
      "\n",
      "            answer  \n",
      "20         Morocco  \n",
      "310  Harrison Ford  \n",
      "349      the 1980s  \n",
      "456    George Ryan  \n",
      "496        the CIA  \n"
     ]
    }
   ],
   "source": [
    "def create_filtered_df2(jeopardy_df, input_list):\n",
    "    pattern = re.compile(r'\\b(?:' + '|'.join(map(re.escape, input_list)) + r')\\b', flags=re.IGNORECASE)\n",
    "    filtered_df = jeopardy_df[jeopardy_df.apply(lambda row: any(pattern.search(str(cell)) for cell in row), axis=1)]\n",
    "    return filtered_df\n",
    "\n",
    "filtered_df2 = create_filtered_df2(jeopardy_df, ['George', 'Africa'])\n",
    "print(len(filtered_df2))\n",
    "print(filtered_df2.head())"
   ]
  },
  {
   "cell_type": "markdown",
   "metadata": {},
   "source": [
    "4. We may want to eventually compute aggregate statistics, like `.mean()` on the `\" Value\"` column. But right now, the values in that column are strings. Convert the`\" Value\"` column to floats. If you'd like to, you can create a new column with float values.\n",
    "\n",
    "   While most of the values in the `\" Value\"` column represent a dollar amount as a string, note that some do not &mdash; these values will need to be handled differently!\n",
    "\n",
    "   Now that you can filter the dataset of question, use your new column that contains the float values of each question to find the \"difficulty\" of certain topics. For example, what is the average value of questions that contain the word `\"King\"`?\n",
    "   \n",
    "   Make sure to use the dataset that contains the float values as the dataset you use in your filtering function."
   ]
  },
  {
   "cell_type": "code",
   "execution_count": 4,
   "metadata": {},
   "outputs": [
    {
     "name": "stdout",
     "output_type": "stream",
     "text": [
      "779.2521426596627\n"
     ]
    }
   ],
   "source": [
    "jeopardy_df['float_value'] = pd.to_numeric(jeopardy_df['value'].replace('no value', '0').str.replace(r'[\\$,]', '', regex=True), errors='coerce')\n",
    "null_value_check = jeopardy_df[jeopardy_df.float_value.isnull()]\n",
    "# print(null_value_check)\n",
    "\n",
    "filtered_king = create_filtered_df2(jeopardy_df, ['King'])\n",
    "print(filtered_king.float_value.mean())"
   ]
  },
  {
   "cell_type": "markdown",
   "metadata": {},
   "source": [
    "5. Write a function that returns the count of unique answers to all of the questions in a dataset. For example, after filtering the entire dataset to only questions containing the word `\"King\"`, we could then find all of the unique answers to those questions. The answer \"Henry VIII\" appeared 55 times and was the most common answer."
   ]
  },
  {
   "cell_type": "code",
   "execution_count": 14,
   "metadata": {},
   "outputs": [
    {
     "name": "stdout",
     "output_type": "stream",
     "text": [
      "There are 1841 unique answers where the keyword is found in the question or answer.\n",
      "\n",
      "                                 answer  count\n",
      "0                             King Lear     55\n",
      "1                          Stephen King     54\n",
      "2                            Henry VIII     54\n",
      "3                             Louis XIV     32\n",
      "4                               Solomon     31\n",
      "...                                 ...    ...\n",
      "1836                            Knossos      1\n",
      "1837              \"The Tennessee Waltz\"      1\n",
      "1838            \"The Prisoner of Zenda\"      1\n",
      "1839                          Nashville      1\n",
      "1840  a pyramid (the pyramids accepted)      1\n",
      "\n",
      "[1841 rows x 2 columns]\n",
      "\n",
      "King Lear is the most commonly found answer with a count of 55 times where the keyword is found in the question or answer.\n"
     ]
    }
   ],
   "source": [
    "def count_unique_answers(filtered_df):\n",
    "    num_unique = filtered_df.answer.nunique()\n",
    "    pivot = filtered_df.answer.value_counts().reset_index()\n",
    "    return num_unique, pivot\n",
    "\n",
    "num_unique, pivot = count_unique_answers(filtered_king)\n",
    "print(\"There are \" + str(num_unique) + \" unique answers where the keyword is found in the question or answer.\\n\")\n",
    "print(pivot)\n",
    "most_frequent = pivot.iloc[0].to_dict()\n",
    "print(\"\\n\" + str(most_frequent['answer']) + \" is the most commonly found answer with a count of \" + str(most_frequent['count']) + \" times where the keyword is found in the question or answer.\")"
   ]
  },
  {
   "cell_type": "markdown",
   "metadata": {},
   "source": [
    "6. Explore from here! This is an incredibly rich dataset, and there are so many interesting things to discover. There are a few columns that we haven't even started looking at yet. Here are some ideas on ways to continue working with this data:\n",
    "\n",
    " * Investigate the ways in which questions change over time by filtering by the date. How many questions from the 90s use the word `\"Computer\"` compared to questions from the 2000s?\n",
    " * Is there a connection between the round and the category? Are you more likely to find certain categories, like `\"Literature\"` in Single Jeopardy or Double Jeopardy?\n",
    " * Build a system to quiz yourself. Grab random questions, and use the <a href=\"https://docs.python.org/3/library/functions.html#input\">input</a> function to get a response from the user. Check to see if that response was right or wrong."
   ]
  },
  {
   "cell_type": "code",
   "execution_count": null,
   "metadata": {},
   "outputs": [],
   "source": []
  },
  {
   "cell_type": "markdown",
   "metadata": {},
   "source": [
    "## Solution"
   ]
  },
  {
   "cell_type": "markdown",
   "metadata": {},
   "source": [
    "7. Compare your program to our <a href=\"https://content.codecademy.com/PRO/independent-practice-projects/jeopardy/jeopardy_solution.zip\">sample solution code</a> - remember, that your program might look different from ours (and probably will) and that's okay!"
   ]
  },
  {
   "cell_type": "markdown",
   "metadata": {},
   "source": [
    "8. Great work! Visit <a href=\"https://discuss.codecademy.com/t/this-is-jeopardy-challenge-project-python-pandas/462365\">our forums</a> to compare your project to our sample solution code. You can also learn how to host your own solution on GitHub so you can share it with other learners! Your solution might look different from ours, and that's okay! There are multiple ways to solve these projects, and you'll learn more by seeing others' code."
   ]
  },
  {
   "cell_type": "code",
   "execution_count": null,
   "metadata": {},
   "outputs": [],
   "source": []
  }
 ],
 "metadata": {
  "kernelspec": {
   "display_name": "Python 3 (ipykernel)",
   "language": "python",
   "name": "python3"
  },
  "language_info": {
   "codemirror_mode": {
    "name": "ipython",
    "version": 3
   },
   "file_extension": ".py",
   "mimetype": "text/x-python",
   "name": "python",
   "nbconvert_exporter": "python",
   "pygments_lexer": "ipython3",
   "version": "3.12.2"
  }
 },
 "nbformat": 4,
 "nbformat_minor": 2
}
